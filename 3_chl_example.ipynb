{
 "cells": [
  {
   "cell_type": "code",
   "execution_count": null,
   "metadata": {},
   "outputs": [],
   "source": [
    "import os\n",
    "import hypso as h\n",
    "\n",
    "from hypso.experimental.chlorophyll import start_chl_estimation\n",
    "from hypso.classification.water import ndwi_watermask\n",
    "from hypso.georeference import generate_full_geotiff as gfg\n",
    "\n",
    "import utils\n",
    "from utils import check4files\n",
    "\n",
    "check4files()\n",
    "\n",
    "dataPath = os.path.join(os.getcwd(), \"florida_2024-04-13_1543Z-l1a.nc\")\n",
    "modelPath = os.path.join(os.getcwd(), \"model_6sv1_aqua_tuned.joblib\")\n",
    "pointsPath = os.path.join(os.getcwd(), \"florida_2024-04-13_1543Z-rgba_8bit.tif.points\")\n",
    "\n",
    "h_file = h.Hypso(dataPath, points_path=pointsPath)\n",
    "\n",
    "atmos_params = {\n",
    "    'aot550': 0.0580000256\n",
    "}\n",
    "\n",
    "# AOT550 parameter gotten from: https://giovanni.gsfc.nasa.gov/giovanni/\n",
    "# In this case, if you force reload, you would delete L1C so we set it to False\n",
    "h_file.create_geotiff(product=\"L2-6SV1\", force_reload=False, atmos_dict=atmos_params)\n",
    "\n",
    "h_file.find_existing_l2_cube()\n",
    "\n",
    "gfg(h_file)\n",
    "ndwi_watermask(h_file)\n",
    "\n",
    "start_chl_estimation(sat_obj=h_file, model_path=modelPath)\n",
    "\n",
    "from hypso.plot import plot_array_overlay\n",
    "# Plot Array on Map\n",
    "plot_array_overlay(h_file,h_file.chl, plotTitle=\"6SV1 Estimation\",cbar_title=\"Chlorophyll Values Sample 0 to 100\", min_value=0.01, max_value=100)"
   ]
  },
  {
   "cell_type": "code",
   "execution_count": null,
   "metadata": {},
   "outputs": [],
   "source": [
    "from utils import embed_geo_data\n",
    "\n",
    "# Path to geo-referenced TIF file\n",
    "chlFName = \"florida_2024-04-13_1543Z-rgba_8bit_chl.tif\"\n",
    "embed_geo_data(chlFName, h_file, h_file.chl)"
   ]
  }
 ],
 "metadata": {
  "kernelspec": {
   "display_name": "h1",
   "language": "python",
   "name": "python3"
  },
  "language_info": {
   "codemirror_mode": {
    "name": "ipython",
    "version": 3
   },
   "file_extension": ".py",
   "mimetype": "text/x-python",
   "name": "python",
   "nbconvert_exporter": "python",
   "pygments_lexer": "ipython3",
   "version": "3.11.6"
  }
 },
 "nbformat": 4,
 "nbformat_minor": 2
}
