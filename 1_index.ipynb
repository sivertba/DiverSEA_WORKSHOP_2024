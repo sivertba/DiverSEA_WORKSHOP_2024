{
 "cells": [
  {
   "cell_type": "markdown",
   "metadata": {},
   "source": [
    "# Welcome to a Binder for the TTK4265 on HYPSO-1"
   ]
  },
  {
   "attachments": {},
   "cell_type": "markdown",
   "metadata": {},
   "source": [
    "This notebook is intended to provide you as a student of TK4265 an opurtunity to play around with Hyperpsectral data from the HYPSO-1 Satellite.\n",
    "You are supposed to look at one specific file form the HYPSO-1 satellite with the identifying name: <br />\n",
    "**vancouvergrieg_2022_07_29T18_36_58-hsi0**\n",
    "\n",
    "To acess the files need go to the following URL:<br />\n",
    "https://studntnu-my.sharepoint.com/:f:/g/personal/sivertba_ntnu_no/EuISfXCkyOxCkoWGnoDsRE4B2DgDm-1SVRHQq76t4Nr_RQ?e=WaeFDG\n",
    "\n",
    "The password you need to access these files will be given during the lectures.\n",
    "\n",
    "You need to download the `.bip` and upload it to your binder to be able to follow this assignment.\n",
    "The provided data is uncalibrated, i.e., the recorded values or digital counts do not have a linear relationship with the spectral response you observe. This might mean that you need to work in an empirical manner to be able to solve the tasks below.\n",
    "Below is some example code to help you get started.\n",
    "You should modify it to try to answer the questions in the tasks."
   ]
  },
  {
   "cell_type": "code",
   "execution_count": null,
   "metadata": {},
   "outputs": [],
   "source": [
    "# import the needed libraries and more!\n",
    "import spectral as spy\n",
    "import spectral.io.envi as envi\n",
    "import numpy as np\n",
    "import matplotlib.pyplot as plt\n",
    "from sklearn import decomposition as de\n",
    "import skimage.morphology as morph\n",
    "from scipy.linalg import pinv"
   ]
  },
  {
   "cell_type": "markdown",
   "metadata": {},
   "source": [
    "### Preliminary\n",
    "Assuming you have sucessfully downloaded the file make sure that the `img.hdr` contains the correct parameters. If you have now downloaded the data and confirmed that the header file contains the correct information take a moment to congratualte yourself. When you are done gloating you can proceed to the first task to check if you understand the data format."
   ]
  },
  {
   "cell_type": "markdown",
   "metadata": {},
   "source": [
    "### Task 0\n",
    "\n",
    "In the preliminary task you are supossed to try to answer the following questions. They are needed for progress\n",
    "    \n",
    "    0. The image cube dimensions are 956x684x120, but what does each number refer to?\n",
    "    1. Can you describe the different ENVI formats `.bip`, `.bil`, and `.bsq`?\n",
    "    2. The HYPSO-1 Data format is `.bip`, why do you think this is the case?\n",
    "    3. What data type does the header information correspond to?\n",
    "    4. The file name indicates that the image was taken at 18.36, was the image taken at night?"
   ]
  },
  {
   "cell_type": "markdown",
   "metadata": {},
   "source": [
    "### Answers for task 0\n",
    "\n",
    "    0.\n",
    "    1.\n",
    "    2. \n",
    "    3. \n",
    "    4."
   ]
  },
  {
   "cell_type": "markdown",
   "metadata": {},
   "source": [
    "### First Look at the data\n",
    "For this first task you have been given the code needed to render an RGB of the hyperspectral image cube.\n"
   ]
  },
  {
   "cell_type": "code",
   "execution_count": null,
   "metadata": {},
   "outputs": [],
   "source": [
    "# Load the cube\n",
    "hsi_cube = envi.open('vancouvergrieg_2022_07_29T18_36_58.hdr')"
   ]
  },
  {
   "cell_type": "code",
   "execution_count": null,
   "metadata": {
    "scrolled": true
   },
   "outputs": [],
   "source": [
    "R = 60\n",
    "G = 80\n",
    "B = 90\n",
    "spy.imshow(hsi_cube, (R,G,B))"
   ]
  },
  {
   "cell_type": "code",
   "execution_count": null,
   "metadata": {},
   "outputs": [],
   "source": [
    "s1  = hsi_cube.read_pixel(750,400)\n",
    "s2  = hsi_cube.read_pixel(850,300)\n",
    "\n",
    "wl = list(map(float, hsi_cube.metadata[\"wavelengths\"]))\n",
    "wl = wl[::-1] # needed to get corresponding order of spectra and wavelengths\n",
    "\n",
    "fig, axs = plt.subplots()\n",
    "axs.set_title(\"Spectrum\")\n",
    "axs.plot(wl, s1, color='#0000FF')\n",
    "axs.plot(wl, s2, color='#00FF00')\n",
    "axs.set_xlabel(\"Wavelength\")\n",
    "axs.set_ylabel(\"Digital Count\")"
   ]
  },
  {
   "cell_type": "markdown",
   "metadata": {},
   "source": [
    "That looks great! (Hopefully)"
   ]
  },
  {
   "cell_type": "markdown",
   "metadata": {},
   "source": [
    "### Getting Familiar\n",
    "Now is you chance to get to know the data that you are playing with! Above are some scripts that might help you answer the following tasks. Remember to help each other as well.\n",
    "\n",
    "The image rendered above does not look as nice as the one you were linked to in the onedrive folder. An additional task is to (try) to figure out why this is the case, and maybe even improve upon it! \n",
    "\n",
    "### Task 1\n",
    "\n",
    "In the first task you are supossed to try to answer the following questions. Feel free to edit the Notbook as you see fit.\n",
    "    \n",
    "    0. Which wavelenghts are used render the RGB to look like a normal image?\n",
    "    1. Where are the Fraunhofer lines located in the spectrogram?\n",
    "    2. What are the differences between spectra over land and water?\n",
    "    3. What diffrences of the spectra can you detect in the along track direction?\n",
    "    4. Are you able to render a false color image that highlights vegetation?"
   ]
  },
  {
   "cell_type": "markdown",
   "metadata": {},
   "source": [
    "### Answers for task 1\n",
    "    0.\n",
    "    1.\n",
    "    2. \n",
    "    3.\n",
    "    4."
   ]
  },
  {
   "cell_type": "code",
   "execution_count": null,
   "metadata": {},
   "outputs": [],
   "source": [
    "# Write your code here, add cells if needed."
   ]
  },
  {
   "cell_type": "markdown",
   "metadata": {},
   "source": [
    "### Getting Comfortable\n",
    "Now that you have become a remote sensing expert we will try something a bit more fancy!\n",
    "\n",
    "Sources<br />\n",
    "[OC4] - https://oceancolor.gsfc.nasa.gov/atbd/chlor_a/\n",
    "\n",
    "### Task 2\n",
    "\n",
    "In this second task you are supossed to try to answer the following questions. Feel free to edit the Notbook as you see fit.\n",
    "    \n",
    "    0. Can you classify water and land?\n",
    "    1. Can you use [OC4] to estimate the relative measurement of chlorophyll-a in the water only?\n",
    "    2. Which wavelength has the shaprest image?\n",
    "    3. Why does the sharpness of the image vary with wavelength?"
   ]
  },
  {
   "cell_type": "code",
   "execution_count": null,
   "metadata": {},
   "outputs": [],
   "source": [
    "# Write your code here, add cells if needed."
   ]
  },
  {
   "cell_type": "markdown",
   "metadata": {},
   "source": [
    "### Answers for task 2\n",
    "    0.\n",
    "    1.\n",
    "    2. \n",
    "    3."
   ]
  },
  {
   "cell_type": "markdown",
   "metadata": {},
   "source": [
    "### Getting Advanced\n",
    "Wait?! How did you get this far?!! \n",
    "\n",
    "I guess you could take a new moment to congratulate yourself. Now the task will become a proper challenge. To do this you would need to go to [USGS] to get spectral data. The python library [spy] is already installed and might be able to help you to read data from the spectral library from [USGS]. \n",
    "\n",
    "As the processing pipeline of HYPSO is still under development this is you chance to get your hands dirty. Try to read through [ELF] to see if you readily understand the essence of the empirical line fit.\n",
    "\n",
    "Sources<br />\n",
    "[USGS]  - https://crustal.usgs.gov/speclab/QueryAll07a.php?quick_filter=water\n",
    "[spy]   - http://www.spectralpython.net/class_func_ref.html?highlight=aster#spectral.database.AsterDatabase\n",
    "[ELF]   - https://www.oceanopticsbook.info/view/atmospheric-correction/level-2/empirical-line-fits\n",
    "[RSR]   - https://oceancolor.gsfc.nasa.gov/docs/rsr/rsr_tables/\n",
    "\n",
    "### Task 3\n",
    "\n",
    "In this second task you are supossed to try to answer the following questions. Feel free to edit the Notbook as you see fit.\n",
    "    \n",
    "    0. Can you, by combining the results from the previous task, find which indicies that correspond to pure-ish sea water pixels?\n",
    "    \n",
    "    1. Can you use the pure-ish sea water pixels (and maybe other pixels as well?) to correct the at-sensor digital counts to measurements of reflectance based on empirical line fitting? NB: Remember the differences in along-track sensor response!\n",
    "    \n",
    "    2. Can you then estimate the absolute chlorophyll-a content in the ocean using [OC4]? NB: Remember the Earth Observation satellites have a different spectral response, see [RSR]."
   ]
  },
  {
   "cell_type": "code",
   "execution_count": null,
   "metadata": {},
   "outputs": [],
   "source": [
    "# Write your code here"
   ]
  }
 ],
 "metadata": {
  "kernelspec": {
   "display_name": "Python 3 (ipykernel)",
   "language": "python",
   "name": "python3"
  },
  "language_info": {
   "codemirror_mode": {
    "name": "ipython",
    "version": 3
   },
   "file_extension": ".py",
   "mimetype": "text/x-python",
   "name": "python",
   "nbconvert_exporter": "python",
   "pygments_lexer": "ipython3",
   "version": "3.8.13"
  },
  "vscode": {
   "interpreter": {
    "hash": "31f2aee4e71d21fbe5cf8b01ff0e069b9275f58929596ceb00d14d90e3e16cd6"
   }
  }
 },
 "nbformat": 4,
 "nbformat_minor": 2
}
